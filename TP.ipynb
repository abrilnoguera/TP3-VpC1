{
 "cells": [
  {
   "cell_type": "markdown",
   "id": "21516b3d",
   "metadata": {},
   "source": [
    "<div style=\"text-align: center;\">\n",
    "    <h1> <font style=\"bold\"> Trabajo Práctico 1 </font></h1>\n",
    "    <h2><font style=\"bold\">Visión por Computadora 1 - CEIA </font></h2>\n",
    "    <h3><font style=\"bold\">Abril Noguera - Pablo Brahim - Kevin Pennington</font></h3>\n",
    "</div>"
   ]
  },
  {
   "cell_type": "markdown",
   "id": "2020d43a",
   "metadata": {},
   "source": [
    "Encontrar el logotipo de la gaseosa dentro de las imágenes provistas en Material_TPs/TP3/images a partir del template Material_TPs/TP3/template\n",
    "\n",
    "1. (4 puntos) Obtener una detección del logo en cada imagen sin falsos positivos\n",
    "\n",
    "2. (4 puntos) Plantear y validar un algoritmo para múltiples detecciones en la imagen coca_multi.png con el mismo témplate del ítem 1\n",
    "\n",
    "3. (2 puntos) Generalizar el algoritmo del item 2 para todas las imágenes. Visualizar los resultados con bounding boxes en cada imagen mostrando el nivel de confianza de la detección."
   ]
  },
  {
   "cell_type": "markdown",
   "id": "00b58c23",
   "metadata": {},
   "source": []
  }
 ],
 "metadata": {
  "kernelspec": {
   "display_name": "CEIA",
   "language": "python",
   "name": "python3"
  },
  "language_info": {
   "codemirror_mode": {
    "name": "ipython",
    "version": 3
   },
   "file_extension": ".py",
   "mimetype": "text/x-python",
   "name": "python",
   "nbconvert_exporter": "python",
   "pygments_lexer": "ipython3",
   "version": "3.11.10"
  }
 },
 "nbformat": 4,
 "nbformat_minor": 5
}
